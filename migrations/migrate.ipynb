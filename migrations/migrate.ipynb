{
 "cells": [
  {
   "cell_type": "code",
   "execution_count": null,
   "metadata": {},
   "outputs": [],
   "source": [
    "import pandas as pd\n",
    "import json"
   ]
  },
  {
   "cell_type": "code",
   "execution_count": 39,
   "metadata": {},
   "outputs": [],
   "source": [
    "# MEMBERS: Format\n",
    "# [\n",
    "#   {\n",
    "#     \"model\": \"members.Member\",\n",
    "#     \"pk\": 1,\n",
    "#     \"fields\": {\n",
    "#       \"first_name\": \"John\",\n",
    "#       \"last_name\": \"Lennon\"\n",
    "#       \"gender\": \"M\",\n",
    "#       \"birth_date\": \"date\",\n",
    "#       \"phone\": \"91283\",\n",
    "#       \"street\": \"Grimseidvegen\",\n",
    "#       \"city\": \"Bergen\",\n",
    "#       \"province\": \"Hordaland\",\n",
    "#       \"zipcode\": \"5239\",\n",
    "#       \"study\": \"\",\n",
    "#       \"grade\": 2,\n",
    "#     }\n",
    "#   },\n",
    "# ]\n",
    "\n",
    "file = pd.read_json(\"beboer_data.json\", encoding=\"utf8\")\n",
    "# print(file.values[0][0])\n",
    "data = []\n",
    "\n",
    "for i, el in enumerate(file.values[0][0]):\n",
    "  gender = \"F\" if el[\"kjonn\"] else \"M\"\n",
    "  member = {\n",
    "    \"model\": \"members.Member\",\n",
    "    \"pk\": i + 20, # Primary key, must be unique\n",
    "    \"fields\": {\n",
    "      \"first_name\": el[\"fornavn\"],\n",
    "      \"last_name\": el[\"etternavn\"],\n",
    "      \"gender\": gender,\n",
    "      \"birth_date\": el[\"fodselsdato\"],\n",
    "      \"phone\": el[\"telefon\"],\n",
    "      \"zipcode\": el[\"postnummer\"],\n",
    "      # \"study\": el[\"studie\"][\"navn\"],\n",
    "      \"grade\": el[\"klassetrinn\"],\n",
    "    }\n",
    "  }\n",
    "\n",
    "  data.append(member)\n",
    "\n",
    "with open('members.json', 'w', encoding='utf8') as outfile:\n",
    "    json.dump(data, outfile, ensure_ascii=False)"
   ]
  },
  {
   "cell_type": "code",
   "execution_count": null,
   "metadata": {},
   "outputs": [],
   "source": []
  }
 ],
 "metadata": {
  "interpreter": {
   "hash": "87954a8c3d1df39e782159dbf2add6282b709f49ed5d77c1f3f83eb69e4d4adf"
  },
  "kernelspec": {
   "display_name": "Python 3.10.1 64-bit",
   "language": "python",
   "name": "python3"
  },
  "language_info": {
   "codemirror_mode": {
    "name": "ipython",
    "version": 3
   },
   "file_extension": ".py",
   "mimetype": "text/x-python",
   "name": "python",
   "nbconvert_exporter": "python",
   "pygments_lexer": "ipython3",
   "version": "3.7.3"
  },
  "orig_nbformat": 4
 },
 "nbformat": 4,
 "nbformat_minor": 2
}
