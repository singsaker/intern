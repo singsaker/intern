{
 "cells": [
  {
   "cell_type": "code",
   "execution_count": null,
   "metadata": {},
   "outputs": [],
   "source": [
    "import pandas as pd\n",
    "import json"
   ]
  },
  {
   "cell_type": "code",
   "execution_count": 39,
   "metadata": {},
   "outputs": [],
   "source": [
    "# MEMBERS: Format\n",
    "# [\n",
    "#   {\n",
    "#     \"model\": \"members.Member\",\n",
    "#     \"pk\": 1,\n",
    "#     \"fields\": {\n",
    "#       \"first_name\": \"John\",\n",
    "#       \"last_name\": \"Lennon\"\n",
    "#       \"gender\": \"M\",\n",
    "#       \"birth_date\": \"date\",\n",
    "#       \"phone\": \"91283\",\n",
    "#       \"street\": \"Grimseidvegen\",\n",
    "#       \"city\": \"Bergen\",\n",
    "#       \"province\": \"Hordaland\",\n",
    "#       \"zipcode\": \"5239\",\n",
    "#       \"study\": \"\",\n",
    "#       \"grade\": 2,\n",
    "#     }\n",
    "#   },\n",
    "# ]\n",
    "\n",
    "file = pd.read_json(\"beboer_data.json\", encoding=\"utf8\")\n",
    "# print(file.values[0][0])\n",
    "data = []\n",
    "\n",
    "for i, el in enumerate(file.values[0][0]):\n",
    "  gender = \"F\" if el[\"kjonn\"] else \"M\"\n",
    "  member = {\n",
    "    \"model\": \"members.Member\",\n",
    "    \"pk\": i + 20, # Primary key, must be unique\n",
    "    \"fields\": {\n",
    "      \"first_name\": el[\"fornavn\"],\n",
    "      \"last_name\": el[\"etternavn\"],\n",
    "      \"gender\": gender,\n",
    "      \"birth_date\": el[\"fodselsdato\"],\n",
    "      \"phone\": el[\"telefon\"],\n",
    "      \"zipcode\": el[\"postnummer\"],\n",
    "      # \"study\": el[\"studie\"][\"navn\"],\n",
    "      \"grade\": el[\"klassetrinn\"],\n",
    "    }\n",
    "  }\n",
    "\n",
    "  data.append(member)\n",
    "\n",
    "with open('members.json', 'w', encoding='utf8') as outfile:\n",
    "    json.dump(data, outfile, ensure_ascii=False)"
   ]
  },
  {
   "cell_type": "code",
   "execution_count": null,
   "metadata": {},
   "outputs": [],
   "source": []
  },
  {
   "cell_type": "code",
   "execution_count": 4,
   "metadata": {},
   "outputs": [
    {
     "ename": "AttributeError",
     "evalue": "module 'datetime' has no attribute 'strptime'",
     "output_type": "error",
     "traceback": [
      "\u001b[1;31m---------------------------------------------------------------------------\u001b[0m",
      "\u001b[1;31mAttributeError\u001b[0m                            Traceback (most recent call last)",
      "\u001b[1;32m<ipython-input-4-2aa6664887e6>\u001b[0m in \u001b[0;36m<module>\u001b[1;34m\u001b[0m\n\u001b[0;32m      1\u001b[0m \u001b[1;32mimport\u001b[0m \u001b[0mdatetime\u001b[0m\u001b[1;33m\u001b[0m\u001b[1;33m\u001b[0m\u001b[0m\n\u001b[0;32m      2\u001b[0m \u001b[1;33m\u001b[0m\u001b[0m\n\u001b[1;32m----> 3\u001b[1;33m \u001b[0mt\u001b[0m \u001b[1;33m=\u001b[0m \u001b[0mdatetime\u001b[0m\u001b[1;33m.\u001b[0m\u001b[0mstrptime\u001b[0m\u001b[1;33m(\u001b[0m\u001b[1;34m\"05:20:25\"\u001b[0m\u001b[1;33m,\u001b[0m\u001b[1;34m\"%H:%M:%S\"\u001b[0m\u001b[1;33m)\u001b[0m\u001b[1;33m\u001b[0m\u001b[1;33m\u001b[0m\u001b[0m\n\u001b[0m\u001b[0;32m      4\u001b[0m \u001b[1;33m\u001b[0m\u001b[0m\n\u001b[0;32m      5\u001b[0m \u001b[0mprint\u001b[0m\u001b[1;33m(\u001b[0m\u001b[0mdatetime\u001b[0m\u001b[1;33m.\u001b[0m\u001b[0mtimedelta\u001b[0m\u001b[1;33m(\u001b[0m\u001b[0mhours\u001b[0m\u001b[1;33m=\u001b[0m\u001b[0mt\u001b[0m\u001b[1;33m.\u001b[0m\u001b[0mhour\u001b[0m\u001b[1;33m,\u001b[0m \u001b[0mminutes\u001b[0m\u001b[1;33m=\u001b[0m\u001b[0mt\u001b[0m\u001b[1;33m.\u001b[0m\u001b[0mminute\u001b[0m\u001b[1;33m,\u001b[0m \u001b[0mseconds\u001b[0m\u001b[1;33m=\u001b[0m\u001b[0mt\u001b[0m\u001b[1;33m.\u001b[0m\u001b[0mseconds\u001b[0m\u001b[1;33m)\u001b[0m\u001b[1;33m)\u001b[0m\u001b[1;33m\u001b[0m\u001b[1;33m\u001b[0m\u001b[0m\n",
      "\u001b[1;31mAttributeError\u001b[0m: module 'datetime' has no attribute 'strptime'"
     ]
    }
   ],
   "source": [
    "import datetime\n",
    "\n",
    "t = datetime.strptime(\"05:20:25\",\"%H:%M:%S\")\n",
    "\n",
    "print(datetime.timedelta(hours=t.hour, minutes=t.minute, seconds=t.seconds))"
   ]
  }
 ],
 "metadata": {
  "interpreter": {
   "hash": "87954a8c3d1df39e782159dbf2add6282b709f49ed5d77c1f3f83eb69e4d4adf"
  },
  "kernelspec": {
   "display_name": "Python 3.10.1 64-bit",
   "language": "python",
   "name": "python3"
  },
  "language_info": {
   "codemirror_mode": {
    "name": "ipython",
    "version": 3
   },
   "file_extension": ".py",
   "mimetype": "text/x-python",
   "name": "python",
   "nbconvert_exporter": "python",
   "pygments_lexer": "ipython3",
   "version": "3.7.3"
  },
  "orig_nbformat": 4
 },
 "nbformat": 4,
 "nbformat_minor": 2
}
