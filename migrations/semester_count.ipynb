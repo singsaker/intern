{
 "cells": [
  {
   "cell_type": "code",
   "execution_count": 41,
   "metadata": {},
   "outputs": [
    {
     "name": "stdout",
     "output_type": "stream",
     "text": [
      "0\n"
     ]
    }
   ],
   "source": [
    "import datetime\n",
    "\n",
    "seasons = lambda Y: [\n",
    "    (\"SPRING\", (datetime.date(Y, 1, 1), datetime.date(Y, 7, 14))),\n",
    "    (\"FALL\", (datetime.date(Y, 7, 15), datetime.date(Y, 12, 31))),\n",
    "]\n",
    "\n",
    "move_in_date = datetime.date(2022, 1, 3)\n",
    "today = datetime.date.today()\n",
    "\n",
    "def get_season(date):\n",
    "    season = seasons(date.year)\n",
    "\n",
    "    for i, s in enumerate(season):\n",
    "        if s[1][0] < date and s[1][1] > date:\n",
    "            return s, i\n",
    "\n",
    "start_season, i = get_season(move_in_date)\n",
    "year = move_in_date.year\n",
    "end_season, j = get_season(today)\n",
    "count = 0\n",
    "\n",
    "while True:\n",
    "    if seasons(year)[i][1] == end_season[1]:\n",
    "        break\n",
    "\n",
    "    count += 1\n",
    "\n",
    "    if (i == 0):\n",
    "        i += 1\n",
    "    else:\n",
    "        i = 0\n",
    "        year += 1\n",
    "\n",
    "\n",
    "print(count)\n"
   ]
  }
 ],
 "metadata": {
  "interpreter": {
   "hash": "31f2aee4e71d21fbe5cf8b01ff0e069b9275f58929596ceb00d14d90e3e16cd6"
  },
  "kernelspec": {
   "display_name": "Python 3.8.9 64-bit",
   "language": "python",
   "name": "python3"
  },
  "language_info": {
   "codemirror_mode": {
    "name": "ipython",
    "version": 3
   },
   "file_extension": ".py",
   "mimetype": "text/x-python",
   "name": "python",
   "nbconvert_exporter": "python",
   "pygments_lexer": "ipython3",
   "version": "3.8.9"
  },
  "orig_nbformat": 4
 },
 "nbformat": 4,
 "nbformat_minor": 2
}
